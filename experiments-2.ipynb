{
 "cells": [
  {
   "cell_type": "markdown",
   "metadata": {},
   "source": [
    "# Numerical experiments II (diagnostics)\n",
    "\n",
    "### Notebook written by Matteo Sesia and Yaniv Romano\n",
    "#### Stanford University, Department of Statistics\n",
    "#### Last updated on: November 19, 2018\n",
    "\n",
    "The purpose of this notebook is to allow the numerical experiments described in the paper to be reproduced easily.\n",
    "Running this code may take a few minutes on a graphical graphical processing unit."
   ]
  },
  {
   "cell_type": "markdown",
   "metadata": {},
   "source": [
    "## Load the required libraries\n",
    "\n",
    "Additional dependencies for this notebook: \n",
    "\n",
    "- `torch_two_sample` https://github.com/josipd/torch-two-sample"
   ]
  },
  {
   "cell_type": "code",
   "execution_count": 1,
   "metadata": {},
   "outputs": [
    {
     "name": "stderr",
     "output_type": "stream",
     "text": [
      "\n",
      "Bad key \"text.kerning_factor\" on line 4 in\n",
      "/home/andrei/anaconda3/envs/deepknockoffs/lib/python3.6/site-packages/matplotlib/mpl-data/stylelib/_classic_test_patch.mplstyle.\n",
      "You probably need to get an updated matplotlibrc file from\n",
      "http://github.com/matplotlib/matplotlib/blob/master/matplotlibrc.template\n",
      "or from the matplotlib source distribution\n"
     ]
    }
   ],
   "source": [
    "import matplotlib.pyplot as plt\n",
    "import seaborn as sns\n",
    "import numpy as np\n",
    "from DeepKnockoffs import KnockoffMachine\n",
    "from DeepKnockoffs import GaussianKnockoffs\n",
    "import data\n",
    "import diagnostics\n",
    "import parameters"
   ]
  },
  {
   "cell_type": "markdown",
   "metadata": {},
   "source": [
    "## Data generating model\n",
    "\n",
    "We model $X \\in \\mathbb{R}^p $ as a multivariate Student's-t distribution, with $p=100$ and the covariance matrix of an auto-regressive process of order one. The default correlation parameter for this distribution is $\\rho =0.5$ and the number of degrees of freedom $\\nu = 3$."
   ]
  },
  {
   "cell_type": "code",
   "execution_count": 5,
   "metadata": {},
   "outputs": [],
   "source": [
    "# Number of features\n",
    "p = 25\n",
    "\n",
    "# Load the built-in multivariate Student's-t model and its default parameters\n",
    "# The currently available built-in models are:\n",
    "# - gaussian : Multivariate Gaussian distribution\n",
    "# - gmm      : Gaussian mixture model\n",
    "# - mstudent : Multivariate Student's-t distribution\n",
    "# - sparse   : Multivariate sparse Gaussian distribution \n",
    "model = \"mstudent\"\n",
    "distribution_params = parameters.GetDistributionParams(model, p)\n",
    "\n",
    "# Initialize the data generator\n",
    "DataSampler = data.DataSampler(distribution_params)"
   ]
  },
  {
   "cell_type": "markdown",
   "metadata": {},
   "source": [
    "## Second-order knockoffs"
   ]
  },
  {
   "cell_type": "markdown",
   "metadata": {},
   "source": [
    "After computing the empirical covariance matrix of $X$ in the training dataset, we can initialize a generator of second-order knockoffs. The solution of the SDP determines the pairwise correlations between the original variables and the knockoffs produced by this algorithm."
   ]
  },
  {
   "cell_type": "code",
   "execution_count": 6,
   "metadata": {},
   "outputs": [
    {
     "name": "stdout",
     "output_type": "stream",
     "text": [
      "Generated a training dataset of size: 600 x 25.\n",
      "Average absolute pairwise correlation: 0.655.\n"
     ]
    }
   ],
   "source": [
    "# Number of training examples\n",
    "n = 600\n",
    "\n",
    "# Sample training data\n",
    "X_train = DataSampler.sample(n)\n",
    "print(\"Generated a training dataset of size: %d x %d.\" %(X_train.shape))\n",
    "\n",
    "# Compute the empirical covariance matrix of the training data\n",
    "SigmaHat = np.cov(X_train, rowvar=False)\n",
    "\n",
    "# Initialize generator of second-order knockoffs\n",
    "second_order = GaussianKnockoffs(SigmaHat, mu=np.mean(X_train,0), method=\"sdp\")\n",
    "\n",
    "# Measure pairwise second-order knockoff correlations \n",
    "corr_g = (np.diag(SigmaHat) - np.diag(second_order.Ds)) / np.diag(SigmaHat)\n",
    "\n",
    "print('Average absolute pairwise correlation: %.3f.' %(np.mean(np.abs(corr_g))))"
   ]
  },
  {
   "cell_type": "markdown",
   "metadata": {},
   "source": [
    "## Deep knockoff machine\n",
    "\n",
    "The default parameters of the machine are set below, as most appropriate for the specific built-in model considered."
   ]
  },
  {
   "cell_type": "code",
   "execution_count": 4,
   "metadata": {},
   "outputs": [],
   "source": [
    "# Load the default hyperparameters for this model\n",
    "training_params = parameters.GetTrainingHyperParams(model)\n",
    "\n",
    "# Set the parameters for training deep knockoffs\n",
    "pars = dict()\n",
    "# Number of epochs\n",
    "pars['epochs'] = 100\n",
    "# Number of iterations over the full data per epoch\n",
    "pars['epoch_length'] = 100\n",
    "# Data type, either \"continuous\" or \"binary\"\n",
    "pars['family'] = \"continuous\"\n",
    "# Dimensions of the data\n",
    "pars['p'] = p\n",
    "# Size of the test set\n",
    "pars['test_size']  = 0\n",
    "# Batch size\n",
    "pars['batch_size'] = int(0.5*n)\n",
    "# Learning rate\n",
    "pars['lr'] = 0.01\n",
    "# When to decrease learning rate (unused when equal to number of epochs)\n",
    "pars['lr_milestones'] = [pars['epochs']]\n",
    "# Width of the network (number of layers is fixed to 6)\n",
    "pars['dim_h'] = int(10*p)\n",
    "# Penalty for the MMD distance\n",
    "pars['GAMMA'] = training_params['GAMMA']\n",
    "# Penalty encouraging second-order knockoffs\n",
    "pars['LAMBDA'] = training_params['LAMBDA']\n",
    "# Decorrelation penalty hyperparameter\n",
    "pars['DELTA'] = training_params['DELTA']\n",
    "# Target pairwise correlations between variables and knockoffs\n",
    "pars['target_corr'] = corr_g\n",
    "# Kernel widths for the MMD measure (uniform weights)\n",
    "pars['alphas'] = [1.,2.,4.,8.,16.,32.,64.,128.]"
   ]
  },
  {
   "cell_type": "markdown",
   "metadata": {},
   "source": [
    "Let's load the trained machine stored in the `tmp/` subdirectory."
   ]
  },
  {
   "cell_type": "code",
   "execution_count": 5,
   "metadata": {},
   "outputs": [
    {
     "name": "stdout",
     "output_type": "stream",
     "text": [
      "=> loading checkpoint 'tmp/mstudent_checkpoint.pth.tar'\n",
      "=> loaded checkpoint 'tmp/mstudent_checkpoint.pth.tar' (epoch 100)\n"
     ]
    }
   ],
   "source": [
    "# Where the machine is stored\n",
    "checkpoint_name = \"tmp/\" + model\n",
    "\n",
    "# Initialize the machine\n",
    "machine = KnockoffMachine(pars)\n",
    "\n",
    "# Load the machine\n",
    "machine.load(checkpoint_name)"
   ]
  },
  {
   "cell_type": "markdown",
   "metadata": {},
   "source": [
    "## Knockoff diagnostics on test data\n",
    "\n",
    "The knockoff generator can be used on new observations of $X$."
   ]
  },
  {
   "cell_type": "code",
   "execution_count": 6,
   "metadata": {},
   "outputs": [
    {
     "name": "stdout",
     "output_type": "stream",
     "text": [
      "Computing knockoff diagnostics...\n",
      "[=========================] 100%"
     ]
    }
   ],
   "source": [
    "# Compute goodness of fit diagnostics on 50 test sets containing 100 observations each\n",
    "n_exams = 100\n",
    "n_samples = 1000\n",
    "exam = diagnostics.KnockoffExam(DataSampler,\n",
    "                                {'Machine':machine, 'Second-order':second_order})\n",
    "diagnostics = exam.diagnose(n_samples, n_exams)"
   ]
  },
  {
   "cell_type": "code",
   "execution_count": 7,
   "metadata": {},
   "outputs": [
    {
     "data": {
      "text/html": [
       "<div>\n",
       "<style scoped>\n",
       "    .dataframe tbody tr th:only-of-type {\n",
       "        vertical-align: middle;\n",
       "    }\n",
       "\n",
       "    .dataframe tbody tr th {\n",
       "        vertical-align: top;\n",
       "    }\n",
       "\n",
       "    .dataframe thead tr th {\n",
       "        text-align: left;\n",
       "    }\n",
       "\n",
       "    .dataframe thead tr:last-of-type th {\n",
       "        text-align: right;\n",
       "    }\n",
       "</style>\n",
       "<table border=\"1\" class=\"dataframe\">\n",
       "  <thead>\n",
       "    <tr>\n",
       "      <th></th>\n",
       "      <th></th>\n",
       "      <th></th>\n",
       "      <th colspan=\"8\" halign=\"left\">Value</th>\n",
       "    </tr>\n",
       "    <tr>\n",
       "      <th></th>\n",
       "      <th></th>\n",
       "      <th></th>\n",
       "      <th>count</th>\n",
       "      <th>mean</th>\n",
       "      <th>std</th>\n",
       "      <th>min</th>\n",
       "      <th>25%</th>\n",
       "      <th>50%</th>\n",
       "      <th>75%</th>\n",
       "      <th>max</th>\n",
       "    </tr>\n",
       "    <tr>\n",
       "      <th>Method</th>\n",
       "      <th>Metric</th>\n",
       "      <th>Swap</th>\n",
       "      <th></th>\n",
       "      <th></th>\n",
       "      <th></th>\n",
       "      <th></th>\n",
       "      <th></th>\n",
       "      <th></th>\n",
       "      <th></th>\n",
       "      <th></th>\n",
       "    </tr>\n",
       "  </thead>\n",
       "  <tbody>\n",
       "    <tr>\n",
       "      <th rowspan=\"9\" valign=\"top\">Machine</th>\n",
       "      <th rowspan=\"3\" valign=\"top\">Covariance</th>\n",
       "      <th>full</th>\n",
       "      <td>100.0</td>\n",
       "      <td>60.039512</td>\n",
       "      <td>134.123940</td>\n",
       "      <td>-276.697998</td>\n",
       "      <td>15.567154</td>\n",
       "      <td>34.559479</td>\n",
       "      <td>60.759216</td>\n",
       "      <td>1152.463867</td>\n",
       "    </tr>\n",
       "    <tr>\n",
       "      <th>partial</th>\n",
       "      <td>100.0</td>\n",
       "      <td>33.986291</td>\n",
       "      <td>147.058595</td>\n",
       "      <td>-735.524170</td>\n",
       "      <td>0.082489</td>\n",
       "      <td>17.216095</td>\n",
       "      <td>39.111130</td>\n",
       "      <td>1097.638184</td>\n",
       "    </tr>\n",
       "    <tr>\n",
       "      <th>self</th>\n",
       "      <td>100.0</td>\n",
       "      <td>0.471787</td>\n",
       "      <td>0.014590</td>\n",
       "      <td>0.446446</td>\n",
       "      <td>0.462604</td>\n",
       "      <td>0.469675</td>\n",
       "      <td>0.477684</td>\n",
       "      <td>0.539238</td>\n",
       "    </tr>\n",
       "    <tr>\n",
       "      <th rowspan=\"2\" valign=\"top\">Energy</th>\n",
       "      <th>full</th>\n",
       "      <td>100.0</td>\n",
       "      <td>0.033835</td>\n",
       "      <td>0.003786</td>\n",
       "      <td>0.027217</td>\n",
       "      <td>0.031173</td>\n",
       "      <td>0.033427</td>\n",
       "      <td>0.035757</td>\n",
       "      <td>0.045670</td>\n",
       "    </tr>\n",
       "    <tr>\n",
       "      <th>partial</th>\n",
       "      <td>100.0</td>\n",
       "      <td>0.033376</td>\n",
       "      <td>0.003730</td>\n",
       "      <td>0.026927</td>\n",
       "      <td>0.030932</td>\n",
       "      <td>0.032650</td>\n",
       "      <td>0.035273</td>\n",
       "      <td>0.045102</td>\n",
       "    </tr>\n",
       "    <tr>\n",
       "      <th rowspan=\"2\" valign=\"top\">KNN</th>\n",
       "      <th>full</th>\n",
       "      <td>100.0</td>\n",
       "      <td>0.519685</td>\n",
       "      <td>0.010931</td>\n",
       "      <td>0.494000</td>\n",
       "      <td>0.511875</td>\n",
       "      <td>0.520000</td>\n",
       "      <td>0.527500</td>\n",
       "      <td>0.541500</td>\n",
       "    </tr>\n",
       "    <tr>\n",
       "      <th>partial</th>\n",
       "      <td>100.0</td>\n",
       "      <td>0.518700</td>\n",
       "      <td>0.011344</td>\n",
       "      <td>0.482500</td>\n",
       "      <td>0.511375</td>\n",
       "      <td>0.519500</td>\n",
       "      <td>0.527000</td>\n",
       "      <td>0.541000</td>\n",
       "    </tr>\n",
       "    <tr>\n",
       "      <th rowspan=\"2\" valign=\"top\">MMD</th>\n",
       "      <th>full</th>\n",
       "      <td>100.0</td>\n",
       "      <td>0.000217</td>\n",
       "      <td>0.000439</td>\n",
       "      <td>-0.000461</td>\n",
       "      <td>-0.000110</td>\n",
       "      <td>0.000115</td>\n",
       "      <td>0.000452</td>\n",
       "      <td>0.001579</td>\n",
       "    </tr>\n",
       "    <tr>\n",
       "      <th>partial</th>\n",
       "      <td>100.0</td>\n",
       "      <td>0.000173</td>\n",
       "      <td>0.000434</td>\n",
       "      <td>-0.000490</td>\n",
       "      <td>-0.000127</td>\n",
       "      <td>0.000072</td>\n",
       "      <td>0.000359</td>\n",
       "      <td>0.001574</td>\n",
       "    </tr>\n",
       "    <tr>\n",
       "      <th rowspan=\"9\" valign=\"top\">Second-order</th>\n",
       "      <th rowspan=\"3\" valign=\"top\">Covariance</th>\n",
       "      <th>full</th>\n",
       "      <td>100.0</td>\n",
       "      <td>22.223158</td>\n",
       "      <td>79.669380</td>\n",
       "      <td>-258.176270</td>\n",
       "      <td>1.077179</td>\n",
       "      <td>11.793976</td>\n",
       "      <td>24.812195</td>\n",
       "      <td>699.819336</td>\n",
       "    </tr>\n",
       "    <tr>\n",
       "      <th>partial</th>\n",
       "      <td>100.0</td>\n",
       "      <td>14.609053</td>\n",
       "      <td>78.543943</td>\n",
       "      <td>-336.269531</td>\n",
       "      <td>-3.392410</td>\n",
       "      <td>6.426788</td>\n",
       "      <td>18.595520</td>\n",
       "      <td>647.122803</td>\n",
       "    </tr>\n",
       "    <tr>\n",
       "      <th>self</th>\n",
       "      <td>100.0</td>\n",
       "      <td>0.417068</td>\n",
       "      <td>0.015437</td>\n",
       "      <td>0.388371</td>\n",
       "      <td>0.407081</td>\n",
       "      <td>0.414057</td>\n",
       "      <td>0.424322</td>\n",
       "      <td>0.474060</td>\n",
       "    </tr>\n",
       "    <tr>\n",
       "      <th rowspan=\"2\" valign=\"top\">Energy</th>\n",
       "      <th>full</th>\n",
       "      <td>100.0</td>\n",
       "      <td>0.039277</td>\n",
       "      <td>0.003011</td>\n",
       "      <td>0.033520</td>\n",
       "      <td>0.037035</td>\n",
       "      <td>0.039157</td>\n",
       "      <td>0.040847</td>\n",
       "      <td>0.048149</td>\n",
       "    </tr>\n",
       "    <tr>\n",
       "      <th>partial</th>\n",
       "      <td>100.0</td>\n",
       "      <td>0.037695</td>\n",
       "      <td>0.003078</td>\n",
       "      <td>0.031986</td>\n",
       "      <td>0.035179</td>\n",
       "      <td>0.037242</td>\n",
       "      <td>0.039380</td>\n",
       "      <td>0.046953</td>\n",
       "    </tr>\n",
       "    <tr>\n",
       "      <th rowspan=\"2\" valign=\"top\">KNN</th>\n",
       "      <th>full</th>\n",
       "      <td>100.0</td>\n",
       "      <td>0.664045</td>\n",
       "      <td>0.013599</td>\n",
       "      <td>0.622000</td>\n",
       "      <td>0.654750</td>\n",
       "      <td>0.665500</td>\n",
       "      <td>0.674500</td>\n",
       "      <td>0.697000</td>\n",
       "    </tr>\n",
       "    <tr>\n",
       "      <th>partial</th>\n",
       "      <td>100.0</td>\n",
       "      <td>0.594015</td>\n",
       "      <td>0.015404</td>\n",
       "      <td>0.558000</td>\n",
       "      <td>0.584375</td>\n",
       "      <td>0.595000</td>\n",
       "      <td>0.604250</td>\n",
       "      <td>0.632500</td>\n",
       "    </tr>\n",
       "    <tr>\n",
       "      <th rowspan=\"2\" valign=\"top\">MMD</th>\n",
       "      <th>full</th>\n",
       "      <td>100.0</td>\n",
       "      <td>0.000706</td>\n",
       "      <td>0.000286</td>\n",
       "      <td>0.000186</td>\n",
       "      <td>0.000492</td>\n",
       "      <td>0.000666</td>\n",
       "      <td>0.000838</td>\n",
       "      <td>0.001652</td>\n",
       "    </tr>\n",
       "    <tr>\n",
       "      <th>partial</th>\n",
       "      <td>100.0</td>\n",
       "      <td>0.000408</td>\n",
       "      <td>0.000284</td>\n",
       "      <td>0.000002</td>\n",
       "      <td>0.000211</td>\n",
       "      <td>0.000350</td>\n",
       "      <td>0.000533</td>\n",
       "      <td>0.001354</td>\n",
       "    </tr>\n",
       "  </tbody>\n",
       "</table>\n",
       "</div>"
      ],
      "text/plain": [
       "                                 Value                                     \\\n",
       "                                 count       mean         std         min   \n",
       "Method       Metric     Swap                                                \n",
       "Machine      Covariance full     100.0  60.039512  134.123940 -276.697998   \n",
       "                        partial  100.0  33.986291  147.058595 -735.524170   \n",
       "                        self     100.0   0.471787    0.014590    0.446446   \n",
       "             Energy     full     100.0   0.033835    0.003786    0.027217   \n",
       "                        partial  100.0   0.033376    0.003730    0.026927   \n",
       "             KNN        full     100.0   0.519685    0.010931    0.494000   \n",
       "                        partial  100.0   0.518700    0.011344    0.482500   \n",
       "             MMD        full     100.0   0.000217    0.000439   -0.000461   \n",
       "                        partial  100.0   0.000173    0.000434   -0.000490   \n",
       "Second-order Covariance full     100.0  22.223158   79.669380 -258.176270   \n",
       "                        partial  100.0  14.609053   78.543943 -336.269531   \n",
       "                        self     100.0   0.417068    0.015437    0.388371   \n",
       "             Energy     full     100.0   0.039277    0.003011    0.033520   \n",
       "                        partial  100.0   0.037695    0.003078    0.031986   \n",
       "             KNN        full     100.0   0.664045    0.013599    0.622000   \n",
       "                        partial  100.0   0.594015    0.015404    0.558000   \n",
       "             MMD        full     100.0   0.000706    0.000286    0.000186   \n",
       "                        partial  100.0   0.000408    0.000284    0.000002   \n",
       "\n",
       "                                                                               \n",
       "                                       25%        50%        75%          max  \n",
       "Method       Metric     Swap                                                   \n",
       "Machine      Covariance full     15.567154  34.559479  60.759216  1152.463867  \n",
       "                        partial   0.082489  17.216095  39.111130  1097.638184  \n",
       "                        self      0.462604   0.469675   0.477684     0.539238  \n",
       "             Energy     full      0.031173   0.033427   0.035757     0.045670  \n",
       "                        partial   0.030932   0.032650   0.035273     0.045102  \n",
       "             KNN        full      0.511875   0.520000   0.527500     0.541500  \n",
       "                        partial   0.511375   0.519500   0.527000     0.541000  \n",
       "             MMD        full     -0.000110   0.000115   0.000452     0.001579  \n",
       "                        partial  -0.000127   0.000072   0.000359     0.001574  \n",
       "Second-order Covariance full      1.077179  11.793976  24.812195   699.819336  \n",
       "                        partial  -3.392410   6.426788  18.595520   647.122803  \n",
       "                        self      0.407081   0.414057   0.424322     0.474060  \n",
       "             Energy     full      0.037035   0.039157   0.040847     0.048149  \n",
       "                        partial   0.035179   0.037242   0.039380     0.046953  \n",
       "             KNN        full      0.654750   0.665500   0.674500     0.697000  \n",
       "                        partial   0.584375   0.595000   0.604250     0.632500  \n",
       "             MMD        full      0.000492   0.000666   0.000838     0.001652  \n",
       "                        partial   0.000211   0.000350   0.000533     0.001354  "
      ]
     },
     "execution_count": 7,
     "metadata": {},
     "output_type": "execute_result"
    }
   ],
   "source": [
    "# Summarize diagnostics\n",
    "diagnostics.groupby(['Method', 'Metric', 'Swap']).describe()"
   ]
  },
  {
   "cell_type": "markdown",
   "metadata": {},
   "source": [
    "The distribution of the diagnostics corresponding to the covariance test are shown below."
   ]
  },
  {
   "cell_type": "code",
   "execution_count": 8,
   "metadata": {},
   "outputs": [
    {
     "data": {
      "image/png": "[encoded data removed]",
      "text/plain": [
       "<matplotlib.figure.Figure at 0x7f343e872470>"
      ]
     },
     "execution_count": 8,
     "metadata": {},
     "output_type": "execute_result"
    }
   ],
   "source": [
    "# Plot covariance goodness-of-fit statistics\n",
    "data = diagnostics[(diagnostics.Metric==\"Covariance\") & (diagnostics.Swap != \"self\")]\n",
    "fig,ax = plt.subplots(figsize=(12,6))\n",
    "sns.boxplot(x=\"Swap\", y=\"Value\", hue=\"Method\", data=data)\n",
    "fig"
   ]
  },
  {
   "cell_type": "markdown",
   "metadata": {},
   "source": [
    "Similarly, we can plot the diagnostics corresponding to differet tests."
   ]
  },
  {
   "cell_type": "code",
   "execution_count": 9,
   "metadata": {},
   "outputs": [
    {
     "data": {
      "image/png": "[encoded data removed]",
      "text/plain": [
       "<matplotlib.figure.Figure at 0x7f343e83f860>"
      ]
     },
     "execution_count": 9,
     "metadata": {},
     "output_type": "execute_result"
    }
   ],
   "source": [
    "# Plot k-nearest neighbors goodness-of-fit statistics\n",
    "data = diagnostics[(diagnostics.Metric==\"KNN\") & (diagnostics.Swap != \"self\")]\n",
    "fig,ax = plt.subplots(figsize=(12,6))\n",
    "sns.boxplot(x=\"Swap\", y=\"Value\", hue=\"Method\", data=data)\n",
    "fig"
   ]
  },
  {
   "cell_type": "code",
   "execution_count": 10,
   "metadata": {},
   "outputs": [
    {
     "data": {
      "image/png": "[encoded data removed]",
      "text/plain": [
       "<matplotlib.figure.Figure at 0x7f343b79e9e8>"
      ]
     },
     "execution_count": 10,
     "metadata": {},
     "output_type": "execute_result"
    }
   ],
   "source": [
    "# Plot MMD goodness-of-fit statistics\n",
    "data = diagnostics[(diagnostics.Metric==\"MMD\") & (diagnostics.Swap != \"self\")]\n",
    "fig,ax = plt.subplots(figsize=(12,6))\n",
    "sns.boxplot(x=\"Swap\", y=\"Value\", hue=\"Method\", data=data)\n",
    "fig"
   ]
  },
  {
   "cell_type": "code",
   "execution_count": 11,
   "metadata": {},
   "outputs": [
    {
     "data": {
      "image/png": "[encoded data removed]",
      "text/plain": [
       "<matplotlib.figure.Figure at 0x7f343b770198>"
      ]
     },
     "execution_count": 11,
     "metadata": {},
     "output_type": "execute_result"
    }
   ],
   "source": [
    "# Plot energy goodness-of-fit statistics\n",
    "data = diagnostics[(diagnostics.Metric==\"Energy\") & (diagnostics.Swap != \"self\")]\n",
    "fig,ax = plt.subplots(figsize=(12,6))\n",
    "sns.boxplot(x=\"Swap\", y=\"Value\", hue=\"Method\", data=data)\n",
    "fig"
   ]
  },
  {
   "cell_type": "code",
   "execution_count": 12,
   "metadata": {},
   "outputs": [
    {
     "data": {
      "image/png": "[encoded data removed]",
      "text/plain": [
       "<matplotlib.figure.Figure at 0x7f343b687470>"
      ]
     },
     "execution_count": 12,
     "metadata": {},
     "output_type": "execute_result"
    }
   ],
   "source": [
    "# Plot average absolute pairwise correlation between variables and knockoffs\n",
    "data = diagnostics[(diagnostics.Metric==\"Covariance\") & (diagnostics.Swap == \"self\")]\n",
    "fig,ax = plt.subplots(figsize=(12,6))\n",
    "sns.boxplot(x=\"Swap\", y=\"Value\", hue=\"Method\", data=data)\n",
    "fig"
   ]
  },
  {
   "cell_type": "code",
   "execution_count": null,
   "metadata": {},
   "outputs": [],
   "source": []
  }
 ],
 "metadata": {
  "kernelspec": {
   "display_name": "Python 3",
   "language": "python",
   "name": "python3"
  },
  "language_info": {
   "codemirror_mode": {
    "name": "ipython",
    "version": 3
   },
   "file_extension": ".py",
   "mimetype": "text/x-python",
   "name": "python",
   "nbconvert_exporter": "python",
   "pygments_lexer": "ipython3",
   "version": "3.6.5"
  }
 },
 "nbformat": 4,
 "nbformat_minor": 2
}