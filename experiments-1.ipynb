{
 "cells": [
  {
   "cell_type": "markdown",
   "metadata": {},
   "source": [
    "# Numerical experiments I (training)\n",
    "\n",
    "### Notebook written by Matteo Sesia and Yaniv Romano\n",
    "#### Stanford University, Department of Statistics\n",
    "#### Last updated on: November 19, 2018\n",
    "\n",
    "The purpose of this notebook is to allow the numerical experiments described in the paper to be reproduced easily.\n",
    "Running this code may take a few hours on a graphical graphical processing unit."
   ]
  },
  {
   "cell_type": "markdown",
   "metadata": {},
   "source": [
    "## Load the required libraries"
   ]
  },
  {
   "cell_type": "code",
   "execution_count": 4,
   "metadata": {},
   "outputs": [],
   "source": [
    "import numpy as np\n",
    "from DeepKnockoffs import KnockoffMachine\n",
    "from DeepKnockoffs import GaussianKnockoffs\n",
    "import data\n",
    "import parameters\n",
    "from data import load_IHDP_data"
   ]
  },
  {
   "cell_type": "code",
   "execution_count": 5,
   "outputs": [],
   "source": [
    "#load IHDP data\n",
    "data_train, data_test = load_IHDP_data(type_a=True, i=0)"
   ],
   "metadata": {
    "collapsed": false,
    "pycharm": {
     "name": "#%%\n"
    }
   }
  },
  {
   "cell_type": "markdown",
   "metadata": {},
   "source": [
    "## Data generating model\n",
    "\n",
    "We model $X \\in \\mathbb{R}^p $ as a multivariate Student's-t distribution, with $p=100$ and the covariance matrix of an auto-regressive process of order one. The default correlation parameter for this distribution is $\\rho =0.5$ and the number of degrees of freedom $\\nu = 3$."
   ]
  },
  {
   "cell_type": "code",
   "execution_count": 2,
   "metadata": {},
   "outputs": [],
   "source": [
    "# Number of features\n",
    "p = 25\n",
    "\n",
    "# Load the built-in multivariate Student's-t model and its default parameters\n",
    "# The currently available built-in models are:\n",
    "# - gaussian : Multivariate Gaussian distribution\n",
    "# - gmm      : Gaussian mixture model\n",
    "# - mstudent : Multivariate Student's-t distribution\n",
    "# - sparse   : Multivariate sparse Gaussian distribution \n",
    "model = \"mstudent\"\n",
    "distribution_params = parameters.GetDistributionParams(model, p)\n",
    "\n",
    "# Initialize the data generator\n",
    "DataSampler = data.DataSampler(distribution_params)"
   ]
  },
  {
   "cell_type": "markdown",
   "metadata": {},
   "source": [
    "Let's sample $n=10000$ observations of $X$. This dataset will be used later to train a deep knockoff machine."
   ]
  },
  {
   "cell_type": "code",
   "execution_count": 4,
   "metadata": {},
   "outputs": [
    {
     "name": "stdout",
     "output_type": "stream",
     "text": [
      "Generated a training dataset of size: 600 x 25.\n"
     ]
    }
   ],
   "source": [
    "# Number of training examples\n",
    "n = 600\n",
    "\n",
    "# Sample training data\n",
    "X_train = DataSampler.sample(n)\n",
    "print(\"Generated a training dataset of size: %d x %d.\" %(X_train.shape))"
   ]
  },
  {
   "cell_type": "markdown",
   "metadata": {},
   "source": [
    "## Second-order knockoffs"
   ]
  },
  {
   "cell_type": "markdown",
   "metadata": {},
   "source": [
    "After computing the empirical covariance matrix of $X$ in the training dataset, we can initialize a generator of second-order knockoffs. The solution of the SDP determines the pairwise correlations between the original variables and the knockoffs produced by this algorithm."
   ]
  },
  {
   "cell_type": "code",
   "execution_count": 5,
   "metadata": {},
   "outputs": [
    {
     "name": "stdout",
     "output_type": "stream",
     "text": [
      "Average absolute pairwise correlation: 0.527.\n"
     ]
    }
   ],
   "source": [
    "# Compute the empirical covariance matrix of the training data\n",
    "SigmaHat = np.cov(X_train, rowvar=False)\n",
    "\n",
    "# Initialize generator of second-order knockoffs\n",
    "second_order = GaussianKnockoffs(SigmaHat, mu=np.mean(X_train,0), method=\"sdp\")\n",
    "\n",
    "# Measure pairwise second-order knockoff correlations \n",
    "corr_g = (np.diag(SigmaHat) - np.diag(second_order.Ds)) / np.diag(SigmaHat)\n",
    "\n",
    "print('Average absolute pairwise correlation: %.3f.' %(np.mean(np.abs(corr_g))))"
   ]
  },
  {
   "cell_type": "markdown",
   "metadata": {},
   "source": [
    "## Deep knockoff machine\n",
    "\n",
    "The default parameters of the machine are set below, as most appropriate for the specific built-in model considered.\n",
    "The figures in the paper were obtained by setting the number of epochs to 1000 and the learning rate to 0.001, while in order to reduce the runtime this notebook uses the values 100 and 0.01 respectively."
   ]
  },
  {
   "cell_type": "code",
   "execution_count": 6,
   "metadata": {},
   "outputs": [],
   "source": [
    "# Load the default hyperparameters for this model\n",
    "training_params = parameters.GetTrainingHyperParams(model)\n",
    "\n",
    "# Set the parameters for training deep knockoffs\n",
    "pars = dict()\n",
    "# Number of epochs\n",
    "pars['epochs'] = 100\n",
    "# Number of iterations over the full data per epoch\n",
    "pars['epoch_length'] = 100\n",
    "# Data type, either \"continuous\" or \"binary\"\n",
    "pars['family'] = \"continuous\"\n",
    "# Dimensions of the data\n",
    "pars['p'] = p\n",
    "# Size of the test set\n",
    "pars['test_size']  = 0\n",
    "# Batch size\n",
    "pars['batch_size'] = int(0.5*n)\n",
    "# Learning rate\n",
    "pars['lr'] = 0.01\n",
    "# When to decrease learning rate (unused when equal to number of epochs)\n",
    "pars['lr_milestones'] = [pars['epochs']]\n",
    "# Width of the network (number of layers is fixed to 6)\n",
    "pars['dim_h'] = int(10*p)\n",
    "# Penalty for the MMD distance\n",
    "pars['GAMMA'] = training_params['GAMMA']\n",
    "# Penalty encouraging second-order knockoffs\n",
    "pars['LAMBDA'] = training_params['LAMBDA']\n",
    "# Decorrelation penalty hyperparameter\n",
    "pars['DELTA'] = training_params['DELTA']\n",
    "# Target pairwise correlations between variables and knockoffs\n",
    "pars['target_corr'] = corr_g\n",
    "# Kernel widths for the MMD measure (uniform weights)\n",
    "pars['alphas'] = [1.,2.,4.,8.,16.,32.,64.,128.]"
   ]
  },
  {
   "cell_type": "markdown",
   "metadata": {},
   "source": [
    "The machine will be stored in the `tmp/` subdirectory for later use and continuously updated during training after each epoch."
   ]
  },
  {
   "cell_type": "code",
   "execution_count": 7,
   "metadata": {},
   "outputs": [],
   "source": [
    "# Where to store the machine\n",
    "checkpoint_name = \"tmp/\" + model\n",
    "\n",
    "# Where to print progress information\n",
    "logs_name = \"tmp/\" + model + \"_progress.txt\""
   ]
  },
  {
   "cell_type": "code",
   "execution_count": 8,
   "metadata": {},
   "outputs": [],
   "source": [
    "# Initialize the machine\n",
    "machine = KnockoffMachine(pars, checkpoint_name=checkpoint_name, logs_name=logs_name)"
   ]
  },
  {
   "cell_type": "markdown",
   "metadata": {},
   "source": [
    "Let's fit the machine to the training data. The value of the loss function on the training will be printed after each epoch, along with other diagnostics based on the MMD, the second moments and the pairwise correlations between variables and knockoffs."
   ]
  },
  {
   "cell_type": "code",
   "execution_count": 9,
   "metadata": {},
   "outputs": [
    {
     "name": "stdout",
     "output_type": "stream",
     "text": [
      "Fitting the knockoff machine...\n"
     ]
    },
    {
     "ename": "RuntimeError",
     "evalue": "CUDA error: out of memory",
     "output_type": "error",
     "traceback": [
      "\u001B[0;31m---------------------------------------------------------------------------\u001B[0m",
      "\u001B[0;31mRuntimeError\u001B[0m                              Traceback (most recent call last)",
      "\u001B[0;32m<ipython-input-9-d630fcbfa178>\u001B[0m in \u001B[0;36m<module>\u001B[0;34m\u001B[0m\n\u001B[1;32m      1\u001B[0m \u001B[0;31m# Train the machine\u001B[0m\u001B[0;34m\u001B[0m\u001B[0;34m\u001B[0m\u001B[0;34m\u001B[0m\u001B[0m\n\u001B[1;32m      2\u001B[0m \u001B[0mprint\u001B[0m\u001B[0;34m(\u001B[0m\u001B[0;34m\"Fitting the knockoff machine...\"\u001B[0m\u001B[0;34m)\u001B[0m\u001B[0;34m\u001B[0m\u001B[0;34m\u001B[0m\u001B[0m\n\u001B[0;32m----> 3\u001B[0;31m \u001B[0mmachine\u001B[0m\u001B[0;34m.\u001B[0m\u001B[0mtrain\u001B[0m\u001B[0;34m(\u001B[0m\u001B[0mX_train\u001B[0m\u001B[0;34m)\u001B[0m\u001B[0;34m\u001B[0m\u001B[0;34m\u001B[0m\u001B[0m\n\u001B[0m",
      "\u001B[0;32m~/.local/lib/python3.6/site-packages/DeepKnockoffs-0.1.0-py3.6.egg/DeepKnockoffs/machine.py\u001B[0m in \u001B[0;36mtrain\u001B[0;34m(self, X_in, resume)\u001B[0m\n\u001B[1;32m    401\u001B[0m         \u001B[0;31m# move data to GPU if available\u001B[0m\u001B[0;34m\u001B[0m\u001B[0;34m\u001B[0m\u001B[0;34m\u001B[0m\u001B[0m\n\u001B[1;32m    402\u001B[0m         \u001B[0;32mif\u001B[0m \u001B[0muse_cuda\u001B[0m\u001B[0;34m:\u001B[0m\u001B[0;34m\u001B[0m\u001B[0;34m\u001B[0m\u001B[0m\n\u001B[0;32m--> 403\u001B[0;31m             \u001B[0mself\u001B[0m\u001B[0;34m.\u001B[0m\u001B[0mSigmaHat\u001B[0m \u001B[0;34m=\u001B[0m \u001B[0mself\u001B[0m\u001B[0;34m.\u001B[0m\u001B[0mSigmaHat\u001B[0m\u001B[0;34m.\u001B[0m\u001B[0mcuda\u001B[0m\u001B[0;34m(\u001B[0m\u001B[0;34m)\u001B[0m\u001B[0;34m\u001B[0m\u001B[0;34m\u001B[0m\u001B[0m\n\u001B[0m\u001B[1;32m    404\u001B[0m             \u001B[0mself\u001B[0m\u001B[0;34m.\u001B[0m\u001B[0mMask\u001B[0m \u001B[0;34m=\u001B[0m \u001B[0mself\u001B[0m\u001B[0;34m.\u001B[0m\u001B[0mMask\u001B[0m\u001B[0;34m.\u001B[0m\u001B[0mcuda\u001B[0m\u001B[0;34m(\u001B[0m\u001B[0;34m)\u001B[0m\u001B[0;34m\u001B[0m\u001B[0;34m\u001B[0m\u001B[0m\n\u001B[1;32m    405\u001B[0m             \u001B[0mself\u001B[0m\u001B[0;34m.\u001B[0m\u001B[0mnet\u001B[0m \u001B[0;34m=\u001B[0m \u001B[0mself\u001B[0m\u001B[0;34m.\u001B[0m\u001B[0mnet\u001B[0m\u001B[0;34m.\u001B[0m\u001B[0mcuda\u001B[0m\u001B[0;34m(\u001B[0m\u001B[0;34m)\u001B[0m\u001B[0;34m\u001B[0m\u001B[0;34m\u001B[0m\u001B[0m\n",
      "\u001B[0;31mRuntimeError\u001B[0m: CUDA error: out of memory"
     ]
    }
   ],
   "source": [
    "# Train the machine\n",
    "print(\"Fitting the knockoff machine...\")\n",
    "machine.train(X_train)"
   ]
  },
  {
   "cell_type": "code",
   "execution_count": null,
   "outputs": [],
   "source": [],
   "metadata": {
    "collapsed": false,
    "pycharm": {
     "name": "#%%\n"
    }
   }
  }
 ],
 "metadata": {
  "kernelspec": {
   "name": "python3",
   "language": "python",
   "display_name": "Python 3"
  },
  "language_info": {
   "codemirror_mode": {
    "name": "ipython",
    "version": 3
   },
   "file_extension": ".py",
   "mimetype": "text/x-python",
   "name": "python",
   "nbconvert_exporter": "python",
   "pygments_lexer": "ipython3",
   "version": "3.6.5"
  }
 },
 "nbformat": 4,
 "nbformat_minor": 2
}